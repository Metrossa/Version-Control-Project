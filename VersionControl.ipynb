{
 "cells": [
  {
   "cell_type": "code",
   "execution_count": 1,
   "metadata": {},
   "outputs": [
    {
     "name": "stdin",
     "output_type": "stream",
     "text": [
      "Yo brodie whats ur name? la\n",
      "Ok I like your name, how old are you? 21\n"
     ]
    },
    {
     "name": "stdout",
     "output_type": "stream",
     "text": [
      "ok, so you're la  and you were born in 2002\n"
     ]
    }
   ],
   "source": [
    "name = input(\"Yo brodie whats ur name?\")\n",
    "age = int(input(\"Ok I like your name, how old are you?\"))\n",
    "\n",
    "finAge= 2023-age\n",
    "\n",
    "print(\"ok, so you're\", name, \"and you were born in\", finAge)"
   ]
  },
  {
   "cell_type": "code",
   "execution_count": null,
   "metadata": {},
   "outputs": [],
   "source": [
    "* It takes a name input\n",
    "* It takes some other input\n",
    "* It does Something™ with this other input"
   ]
  }
 ],
 "metadata": {
  "kernelspec": {
   "display_name": "Python 3",
   "language": "python",
   "name": "python3"
  },
  "language_info": {
   "codemirror_mode": {
    "name": "ipython",
    "version": 3
   },
   "file_extension": ".py",
   "mimetype": "text/x-python",
   "name": "python",
   "nbconvert_exporter": "python",
   "pygments_lexer": "ipython3",
   "version": "3.8.3"
  }
 },
 "nbformat": 4,
 "nbformat_minor": 4
}
